{
 "cells": [
  {
   "cell_type": "code",
   "execution_count": 2,
   "metadata": {},
   "outputs": [
    {
     "data": {
      "text/plain": [
       "True"
      ]
     },
     "execution_count": 2,
     "metadata": {},
     "output_type": "execute_result"
    }
   ],
   "source": [
    "from openai import OpenAI\n",
    "import os\n",
    "from dotenv import load_dotenv\n",
    "import base64\n",
    "import mimetypes\n",
    "from PIL import Image\n",
    "from io import BytesIO\n",
    "import pandas as pd\n",
    "from io import StringIO\n",
    "import fitz\n",
    "load_dotenv()"
   ]
  },
  {
   "cell_type": "code",
   "execution_count": 3,
   "metadata": {},
   "outputs": [],
   "source": [
    "client = OpenAI(\n",
    "    api_key=os.getenv('OPENAI_API_KEY'))"
   ]
  },
  {
   "cell_type": "code",
   "execution_count": 4,
   "metadata": {},
   "outputs": [
    {
     "ename": "FileExistsError",
     "evalue": "[Errno 17] File exists: 'images/biedronka20112023-25112023'",
     "output_type": "error",
     "traceback": [
      "\u001b[0;31m---------------------------------------------------------------------------\u001b[0m",
      "\u001b[0;31mFileExistsError\u001b[0m                           Traceback (most recent call last)",
      "\u001b[1;32m/Users/krystianpietrzak/Documents/ML/OpenAI_testing/vision_testing.ipynb Cell 3\u001b[0m line \u001b[0;36m1\n\u001b[0;32m----> <a href='vscode-notebook-cell:/Users/krystianpietrzak/Documents/ML/OpenAI_testing/vision_testing.ipynb#W2sZmlsZQ%3D%3D?line=0'>1</a>\u001b[0m os\u001b[39m.\u001b[39;49mmkdir(\u001b[39m'\u001b[39;49m\u001b[39mimages/biedronka20112023-25112023\u001b[39;49m\u001b[39m'\u001b[39;49m)\n\u001b[1;32m      <a href='vscode-notebook-cell:/Users/krystianpietrzak/Documents/ML/OpenAI_testing/vision_testing.ipynb#W2sZmlsZQ%3D%3D?line=1'>2</a>\u001b[0m doc \u001b[39m=\u001b[39m fitz\u001b[39m.\u001b[39mopen(\u001b[39m\"\u001b[39m\u001b[39mimages/biedronka20112023-25112023.pdf\u001b[39m\u001b[39m\"\u001b[39m)\n\u001b[1;32m      <a href='vscode-notebook-cell:/Users/krystianpietrzak/Documents/ML/OpenAI_testing/vision_testing.ipynb#W2sZmlsZQ%3D%3D?line=3'>4</a>\u001b[0m \u001b[39mfor\u001b[39;00m idx \u001b[39min\u001b[39;00m \u001b[39mrange\u001b[39m(doc\u001b[39m.\u001b[39mpage_count):\n\u001b[1;32m      <a href='vscode-notebook-cell:/Users/krystianpietrzak/Documents/ML/OpenAI_testing/vision_testing.ipynb#W2sZmlsZQ%3D%3D?line=4'>5</a>\u001b[0m     \u001b[39m# Select the page you want to convert (0 for the first page)\u001b[39;00m\n",
      "\u001b[0;31mFileExistsError\u001b[0m: [Errno 17] File exists: 'images/biedronka20112023-25112023'"
     ]
    }
   ],
   "source": [
    "os.mkdir('images/biedronka20112023-25112023')\n",
    "doc = fitz.open(\"images/biedronka20112023-25112023.pdf\")\n",
    "\n",
    "for idx in range(doc.page_count):\n",
    "    # Select the page you want to convert (0 for the first page)\n",
    "    page = doc.load_page(idx)\n",
    "\n",
    "    # Convert it to a pixmap (an image)\n",
    "    pix = page.get_pixmap()\n",
    "\n",
    "    # Save the image\n",
    "    image_path = f\"images/biedronka20112023-25112023/page{idx}.png\"\n",
    "    pix.save(image_path)\n",
    "\n",
    "# Close the document\n",
    "doc.close()"
   ]
  },
  {
   "cell_type": "code",
   "execution_count": 5,
   "metadata": {},
   "outputs": [],
   "source": [
    "def chat(query, image_path):\n",
    "    # Guess the MIME type of the image\n",
    "    mime_type, _ = mimetypes.guess_type(image_path)\n",
    "    if not mime_type or not mime_type.startswith('image'):\n",
    "        raise ValueError(\"The file type is not recognized as an image\")\n",
    "    \n",
    "    # Read the image binary data\n",
    "    with open(image_path, 'rb') as image_file:\n",
    "        image_data = image_file.read()\n",
    "        encoded_string = base64.b64encode(image_data).decode('utf-8')\n",
    "    \n",
    "    # Format the result with the appropriate prefix\n",
    "    image_base64 = f\"data:{mime_type};base64,{encoded_string}\"\n",
    "\n",
    "    # Read image for size using PIL\n",
    "    image = Image.open(BytesIO(image_data))\n",
    "    width, height = image.size\n",
    "    print(\"Width:\", width, \"Height:\", height)\n",
    "    \n",
    "    response = client.chat.completions.create(\n",
    "        model=\"gpt-4-vision-preview\",\n",
    "        messages=[\n",
    "            {\n",
    "                \"role\": \"user\",\n",
    "                \"content\": [\n",
    "                    {\"type\": \"text\", \"text\": query},\n",
    "                    {\n",
    "                        \"type\": \"image_url\",\n",
    "                        \"image_url\": {\"url\": image_base64, \"detail\": \"high\"}\n",
    "                    },\n",
    "                ],\n",
    "            }\n",
    "        ],\n",
    "        max_tokens=300,\n",
    "    )\n",
    "\n",
    "    return response.choices[0].message.content\n",
    "    "
   ]
  },
  {
   "cell_type": "code",
   "execution_count": 6,
   "metadata": {},
   "outputs": [],
   "source": [
    "query = ''' You are given an image of a invoice in Polish.\n",
    "            I need a list of items that is in the middle of a image. There are column names there. Return the column names as a list separated by / and return the values seprated by / and a new line if there are mulitple rows.\n",
    "            Return only this format and nothing else.'''"
   ]
  },
  {
   "cell_type": "code",
   "execution_count": 7,
   "metadata": {},
   "outputs": [
    {
     "name": "stdout",
     "output_type": "stream",
     "text": [
      "Width: 3024 Height: 4032\n"
     ]
    },
    {
     "data": {
      "text/plain": [
       "'Poz./Nr art./Oznaczenie/L./Cena netto/Razem netto\\n100002-PL/Windows 7 Professional/1/68,28 zł/68,28 zł'"
      ]
     },
     "execution_count": 7,
     "metadata": {},
     "output_type": "execute_result"
    }
   ],
   "source": [
    "response = chat(query , f'images/387459570_1070736067600198_8222554501514766161_n.jpg')\n",
    "response"
   ]
  },
  {
   "cell_type": "code",
   "execution_count": 17,
   "metadata": {},
   "outputs": [
    {
     "data": {
      "text/plain": [
       "'100002-PL/Windows 7 Professional/1/68,28 zł/68,28 zł\\n'"
      ]
     },
     "execution_count": 17,
     "metadata": {},
     "output_type": "execute_result"
    }
   ],
   "source": [
    "offer = ''\n",
    "for idx, row in enumerate(response.split('\\n')):\n",
    "    if idx == 0:\n",
    "        columns = row.split('/')\n",
    "    if '/' in row and len(row.split('/')) == 6:\n",
    "        offer += row + '\\n'\n",
    "offer"
   ]
  },
  {
   "cell_type": "code",
   "execution_count": 22,
   "metadata": {},
   "outputs": [
    {
     "data": {
      "text/html": [
       "<div>\n",
       "<style scoped>\n",
       "    .dataframe tbody tr th:only-of-type {\n",
       "        vertical-align: middle;\n",
       "    }\n",
       "\n",
       "    .dataframe tbody tr th {\n",
       "        vertical-align: top;\n",
       "    }\n",
       "\n",
       "    .dataframe thead th {\n",
       "        text-align: right;\n",
       "    }\n",
       "</style>\n",
       "<table border=\"1\" class=\"dataframe\">\n",
       "  <thead>\n",
       "    <tr style=\"text-align: right;\">\n",
       "      <th></th>\n",
       "      <th>Poz.</th>\n",
       "      <th>Nr art.</th>\n",
       "      <th>Oznaczenie</th>\n",
       "      <th>L.</th>\n",
       "      <th>Cena netto</th>\n",
       "      <th>Razem netto</th>\n",
       "    </tr>\n",
       "  </thead>\n",
       "  <tbody>\n",
       "    <tr>\n",
       "      <th>0</th>\n",
       "      <td>100002-PL</td>\n",
       "      <td>Windows 7 Professional</td>\n",
       "      <td>1</td>\n",
       "      <td>68,28 zł</td>\n",
       "      <td>68,28 zł</td>\n",
       "      <td>NaN</td>\n",
       "    </tr>\n",
       "  </tbody>\n",
       "</table>\n",
       "</div>"
      ],
      "text/plain": [
       "        Poz.                 Nr art.  Oznaczenie        L. Cena netto  \\\n",
       "0  100002-PL  Windows 7 Professional           1  68,28 zł   68,28 zł   \n",
       "\n",
       "   Razem netto  \n",
       "0          NaN  "
      ]
     },
     "execution_count": 22,
     "metadata": {},
     "output_type": "execute_result"
    }
   ],
   "source": [
    "# Using StringIO to simulate a file-like object\n",
    "string_io = StringIO(offer.strip())\n",
    "\n",
    "# Reading the string into a pandas DataFrame\n",
    "df = pd.read_csv(string_io, sep=\"/\", names=columns)\n",
    "\n",
    "df"
   ]
  }
 ],
 "metadata": {
  "kernelspec": {
   "display_name": "Python 3",
   "language": "python",
   "name": "python3"
  },
  "language_info": {
   "codemirror_mode": {
    "name": "ipython",
    "version": 3
   },
   "file_extension": ".py",
   "mimetype": "text/x-python",
   "name": "python",
   "nbconvert_exporter": "python",
   "pygments_lexer": "ipython3",
   "version": "3.10.13"
  }
 },
 "nbformat": 4,
 "nbformat_minor": 2
}
