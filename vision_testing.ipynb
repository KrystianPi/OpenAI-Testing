{
 "cells": [
  {
   "cell_type": "code",
   "execution_count": 1,
   "metadata": {},
   "outputs": [
    {
     "data": {
      "text/plain": [
       "True"
      ]
     },
     "execution_count": 1,
     "metadata": {},
     "output_type": "execute_result"
    }
   ],
   "source": [
    "from openai import OpenAI\n",
    "import os\n",
    "from dotenv import load_dotenv\n",
    "import base64\n",
    "import mimetypes\n",
    "from PIL import Image\n",
    "from io import BytesIO\n",
    "import pandas as pd\n",
    "from io import StringIO\n",
    "import fitz\n",
    "load_dotenv()"
   ]
  },
  {
   "cell_type": "code",
   "execution_count": 2,
   "metadata": {},
   "outputs": [],
   "source": [
    "client = OpenAI(\n",
    "    api_key=os.getenv('OPENAI_API_KEY'))"
   ]
  },
  {
   "cell_type": "code",
   "execution_count": 30,
   "metadata": {},
   "outputs": [],
   "source": [
    "os.mkdir('images/biedronka20112023-25112023')\n",
    "doc = fitz.open(\"images/biedronka20112023-25112023.pdf\")\n",
    "\n",
    "for idx in range(doc.page_count):\n",
    "    # Select the page you want to convert (0 for the first page)\n",
    "    page = doc.load_page(idx)\n",
    "\n",
    "    # Convert it to a pixmap (an image)\n",
    "    pix = page.get_pixmap()\n",
    "\n",
    "    # Save the image\n",
    "    image_path = f\"images/biedronka20112023-25112023/page{idx}.png\"\n",
    "    pix.save(image_path)\n",
    "\n",
    "# Close the document\n",
    "doc.close()"
   ]
  },
  {
   "cell_type": "code",
   "execution_count": 3,
   "metadata": {},
   "outputs": [],
   "source": [
    "def chat(query, image_path):\n",
    "    # Guess the MIME type of the image\n",
    "    mime_type, _ = mimetypes.guess_type(image_path)\n",
    "    if not mime_type or not mime_type.startswith('image'):\n",
    "        raise ValueError(\"The file type is not recognized as an image\")\n",
    "    \n",
    "    # Read the image binary data\n",
    "    with open(image_path, 'rb') as image_file:\n",
    "        image_data = image_file.read()\n",
    "        encoded_string = base64.b64encode(image_data).decode('utf-8')\n",
    "    \n",
    "    # Format the result with the appropriate prefix\n",
    "    image_base64 = f\"data:{mime_type};base64,{encoded_string}\"\n",
    "\n",
    "    # Read image for size using PIL\n",
    "    image = Image.open(BytesIO(image_data))\n",
    "    width, height = image.size\n",
    "    print(\"Width:\", width, \"Height:\", height)\n",
    "    \n",
    "    response = client.chat.completions.create(\n",
    "        model=\"gpt-4-vision-preview\",\n",
    "        messages=[\n",
    "            {\n",
    "                \"role\": \"user\",\n",
    "                \"content\": [\n",
    "                    {\"type\": \"text\", \"text\": query},\n",
    "                    {\n",
    "                        \"type\": \"image_url\",\n",
    "                        \"image_url\": {\"url\": image_base64, \"detail\": \"high\"}\n",
    "                    },\n",
    "                ],\n",
    "            }\n",
    "        ],\n",
    "        max_tokens=300,\n",
    "    )\n",
    "\n",
    "    return response.choices[0].message.content"
   ]
  },
  {
   "cell_type": "code",
   "execution_count": 14,
   "metadata": {},
   "outputs": [],
   "source": [
    "query = ''' You are given an image of a invoice in Polish.\n",
    "            I need a list of items that is in the middle of a image. There are column names there. Return the column names as a list separated by / and return the values seprated by / and a new line if there are mulitple rows.\n",
    "            Return only this format and nothing else.'''"
   ]
  },
  {
   "cell_type": "code",
   "execution_count": 15,
   "metadata": {},
   "outputs": [
    {
     "name": "stdout",
     "output_type": "stream",
     "text": [
      "Width: 3024 Height: 4032\n"
     ]
    },
    {
     "data": {
      "text/plain": [
       "'Poz. / Nr art. / Oznaczenie / L. / Cena netto / Razem netto\\n100002-PL / Windows 7 Professional / 1 / 68,28 zł / 68,28 zł'"
      ]
     },
     "execution_count": 15,
     "metadata": {},
     "output_type": "execute_result"
    }
   ],
   "source": [
    "response = chat(query , f'images/387459570_1070736067600198_8222554501514766161_n.jpg')\n",
    "response"
   ]
  },
  {
   "cell_type": "code",
   "execution_count": 16,
   "metadata": {},
   "outputs": [
    {
     "name": "stdout",
     "output_type": "stream",
     "text": [
      "Poz. / Nr art. / Oznaczenie / L. / Cena netto / Razem netto\n",
      "100002-PL / Windows 7 Professional / 1 / 68,28 zł / 68,28 zł\n"
     ]
    }
   ],
   "source": [
    "print(response)"
   ]
  },
  {
   "cell_type": "code",
   "execution_count": 9,
   "metadata": {},
   "outputs": [],
   "source": [
    "offer = ''\n",
    "for row in response.split('\\n'):\n",
    "    if '/' in row and len(row.split('/')) == 2:\n",
    "        offer += row + '\\n'\n"
   ]
  },
  {
   "cell_type": "code",
   "execution_count": 11,
   "metadata": {},
   "outputs": [
    {
     "data": {
      "text/html": [
       "<div>\n",
       "<style scoped>\n",
       "    .dataframe tbody tr th:only-of-type {\n",
       "        vertical-align: middle;\n",
       "    }\n",
       "\n",
       "    .dataframe tbody tr th {\n",
       "        vertical-align: top;\n",
       "    }\n",
       "\n",
       "    .dataframe thead th {\n",
       "        text-align: right;\n",
       "    }\n",
       "</style>\n",
       "<table border=\"1\" class=\"dataframe\">\n",
       "  <thead>\n",
       "    <tr style=\"text-align: right;\">\n",
       "      <th></th>\n",
       "      <th>Name</th>\n",
       "      <th>Value</th>\n",
       "    </tr>\n",
       "  </thead>\n",
       "  <tbody>\n",
       "    <tr>\n",
       "      <th>0</th>\n",
       "      <td>seller</td>\n",
       "      <td>lizengo GmbH &amp; Co. KG</td>\n",
       "    </tr>\n",
       "    <tr>\n",
       "      <th>1</th>\n",
       "      <td>seller address</td>\n",
       "      <td>Eiler Straße 3, 51107 Köln - Germany</td>\n",
       "    </tr>\n",
       "    <tr>\n",
       "      <th>2</th>\n",
       "      <td>seller phone</td>\n",
       "      <td>0221 2922400</td>\n",
       "    </tr>\n",
       "    <tr>\n",
       "      <th>3</th>\n",
       "      <td>seller email</td>\n",
       "      <td>info@lizengo.pl</td>\n",
       "    </tr>\n",
       "    <tr>\n",
       "      <th>4</th>\n",
       "      <td>seller website</td>\n",
       "      <td>www.lizengo.pl</td>\n",
       "    </tr>\n",
       "    <tr>\n",
       "      <th>5</th>\n",
       "      <td>invoice number</td>\n",
       "      <td>140150955</td>\n",
       "    </tr>\n",
       "    <tr>\n",
       "      <th>6</th>\n",
       "      <td>page number</td>\n",
       "      <td>Strona 1 z 1</td>\n",
       "    </tr>\n",
       "    <tr>\n",
       "      <th>7</th>\n",
       "      <td>item number</td>\n",
       "      <td>Poz. 1</td>\n",
       "    </tr>\n",
       "    <tr>\n",
       "      <th>8</th>\n",
       "      <td>item code</td>\n",
       "      <td>Nr art. 100002-PL</td>\n",
       "    </tr>\n",
       "    <tr>\n",
       "      <th>9</th>\n",
       "      <td>item description</td>\n",
       "      <td>Oznaczenie Windows 7 Professional</td>\n",
       "    </tr>\n",
       "    <tr>\n",
       "      <th>10</th>\n",
       "      <td>item quantity</td>\n",
       "      <td>L. 1</td>\n",
       "    </tr>\n",
       "    <tr>\n",
       "      <th>11</th>\n",
       "      <td>net price</td>\n",
       "      <td>Cena netto 68,28 zł</td>\n",
       "    </tr>\n",
       "    <tr>\n",
       "      <th>12</th>\n",
       "      <td>net total</td>\n",
       "      <td>Razem netto 68,28 zł</td>\n",
       "    </tr>\n",
       "    <tr>\n",
       "      <th>13</th>\n",
       "      <td>total net cost</td>\n",
       "      <td>Całkowite koszty netto 68,28 zł</td>\n",
       "    </tr>\n",
       "    <tr>\n",
       "      <th>14</th>\n",
       "      <td>total cost</td>\n",
       "      <td>Całkowite koszty 68,28 zł</td>\n",
       "    </tr>\n",
       "    <tr>\n",
       "      <th>15</th>\n",
       "      <td>buyer</td>\n",
       "      <td>Alphamoon Sp. z o.o.</td>\n",
       "    </tr>\n",
       "    <tr>\n",
       "      <th>16</th>\n",
       "      <td>customer number</td>\n",
       "      <td>Nr klienta 040711</td>\n",
       "    </tr>\n",
       "    <tr>\n",
       "      <th>17</th>\n",
       "      <td>VAT identity number</td>\n",
       "      <td>Nr identyfikacyjny VAT PL8943076568</td>\n",
       "    </tr>\n",
       "    <tr>\n",
       "      <th>18</th>\n",
       "      <td>order number</td>\n",
       "      <td>Nr zamówienia 140200327</td>\n",
       "    </tr>\n",
       "    <tr>\n",
       "      <th>19</th>\n",
       "      <td>invoice date</td>\n",
       "      <td>Data 08.03.2019</td>\n",
       "    </tr>\n",
       "    <tr>\n",
       "      <th>20</th>\n",
       "      <td>bank details</td>\n",
       "      <td>Bank name Sparkasse Westmünsterland</td>\n",
       "    </tr>\n",
       "    <tr>\n",
       "      <th>21</th>\n",
       "      <td>BIC</td>\n",
       "      <td>WELADED1W</td>\n",
       "    </tr>\n",
       "  </tbody>\n",
       "</table>\n",
       "</div>"
      ],
      "text/plain": [
       "                   Name                                 Value\n",
       "0                seller                 lizengo GmbH & Co. KG\n",
       "1        seller address  Eiler Straße 3, 51107 Köln - Germany\n",
       "2          seller phone                          0221 2922400\n",
       "3          seller email                       info@lizengo.pl\n",
       "4        seller website                        www.lizengo.pl\n",
       "5        invoice number                             140150955\n",
       "6           page number                          Strona 1 z 1\n",
       "7           item number                                Poz. 1\n",
       "8             item code                     Nr art. 100002-PL\n",
       "9      item description     Oznaczenie Windows 7 Professional\n",
       "10        item quantity                                  L. 1\n",
       "11            net price                   Cena netto 68,28 zł\n",
       "12            net total                  Razem netto 68,28 zł\n",
       "13       total net cost       Całkowite koszty netto 68,28 zł\n",
       "14           total cost             Całkowite koszty 68,28 zł\n",
       "15                buyer                  Alphamoon Sp. z o.o.\n",
       "16      customer number                     Nr klienta 040711\n",
       "17  VAT identity number   Nr identyfikacyjny VAT PL8943076568\n",
       "18         order number               Nr zamówienia 140200327\n",
       "19         invoice date                       Data 08.03.2019\n",
       "20         bank details   Bank name Sparkasse Westmünsterland\n",
       "21                  BIC                             WELADED1W"
      ]
     },
     "execution_count": 11,
     "metadata": {},
     "output_type": "execute_result"
    }
   ],
   "source": [
    "# Using StringIO to simulate a file-like object\n",
    "string_io = StringIO(offer.strip())\n",
    "\n",
    "# Reading the string into a pandas DataFrame\n",
    "df = pd.read_csv(string_io, sep=\"/\", names=[\"Name\", \"Value\"])\n",
    "\n",
    "df"
   ]
  }
 ],
 "metadata": {
  "kernelspec": {
   "display_name": "Python 3",
   "language": "python",
   "name": "python3"
  },
  "language_info": {
   "codemirror_mode": {
    "name": "ipython",
    "version": 3
   },
   "file_extension": ".py",
   "mimetype": "text/x-python",
   "name": "python",
   "nbconvert_exporter": "python",
   "pygments_lexer": "ipython3",
   "version": "3.10.13"
  }
 },
 "nbformat": 4,
 "nbformat_minor": 2
}
